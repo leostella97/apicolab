{
  "cells": [
    {
      "cell_type": "code",
      "execution_count": 1,
      "metadata": {
        "colab": {
          "base_uri": "https://localhost:8080/"
        },
        "id": "RwpaO6wRFKp7",
        "outputId": "f9fa366d-a7d6-4695-febe-448e1c3ec144"
      },
      "outputs": [
        {
          "name": "stdout",
          "output_type": "stream",
          "text": [
            "Looking in indexes: https://pypi.org/simple, https://us-python.pkg.dev/colab-wheels/public/simple/\n",
            "Collecting flask_ngrok\n",
            "  Downloading flask_ngrok-0.0.25-py3-none-any.whl (3.1 kB)\n",
            "Requirement already satisfied: requests in /usr/local/lib/python3.8/dist-packages (from flask_ngrok) (2.25.1)\n",
            "Requirement already satisfied: Flask>=0.8 in /usr/local/lib/python3.8/dist-packages (from flask_ngrok) (1.1.4)\n",
            "Requirement already satisfied: Jinja2<3.0,>=2.10.1 in /usr/local/lib/python3.8/dist-packages (from Flask>=0.8->flask_ngrok) (2.11.3)\n",
            "Requirement already satisfied: Werkzeug<2.0,>=0.15 in /usr/local/lib/python3.8/dist-packages (from Flask>=0.8->flask_ngrok) (1.0.1)\n",
            "Requirement already satisfied: click<8.0,>=5.1 in /usr/local/lib/python3.8/dist-packages (from Flask>=0.8->flask_ngrok) (7.1.2)\n",
            "Requirement already satisfied: itsdangerous<2.0,>=0.24 in /usr/local/lib/python3.8/dist-packages (from Flask>=0.8->flask_ngrok) (1.1.0)\n",
            "Requirement already satisfied: idna<3,>=2.5 in /usr/local/lib/python3.8/dist-packages (from requests->flask_ngrok) (2.10)\n",
            "Requirement already satisfied: urllib3<1.27,>=1.21.1 in /usr/local/lib/python3.8/dist-packages (from requests->flask_ngrok) (1.24.3)\n",
            "Requirement already satisfied: chardet<5,>=3.0.2 in /usr/local/lib/python3.8/dist-packages (from requests->flask_ngrok) (4.0.0)\n",
            "Requirement already satisfied: certifi>=2017.4.17 in /usr/local/lib/python3.8/dist-packages (from requests->flask_ngrok) (2022.12.7)\n",
            "Requirement already satisfied: MarkupSafe>=0.23 in /usr/local/lib/python3.8/dist-packages (from Jinja2<3.0,>=2.10.1->Flask>=0.8->flask_ngrok) (2.0.1)\n",
            "Installing collected packages: flask_ngrok\n",
            "Successfully installed flask_ngrok-0.0.25\n"
          ]
        }
      ],
      "source": [
        "!pip install flask_ngrok"
      ]
    },
    {
      "cell_type": "code",
      "execution_count": 2,
      "metadata": {
        "id": "uXnIJBsgFuXx"
      },
      "outputs": [],
      "source": [
        "import pandas as pd\n",
        "from flask_ngrok import run_with_ngrok\n",
        "from flask import request\n",
        "from flask import jsonify\n",
        "from flask import Flask\n",
        "import random as rk"
      ]
    },
    {
      "cell_type": "code",
      "execution_count": 3,
      "metadata": {
        "id": "nUOBDFpxGefM"
      },
      "outputs": [],
      "source": [
        "app = Flask (__name__) # The name of the application package\n",
        "run_with_ngrok(app)"
      ]
    },
    {
      "cell_type": "code",
      "execution_count": 4,
      "metadata": {
        "id": "Xo3sQAZ3G5mV"
      },
      "outputs": [],
      "source": [
        "d = {\n",
        "    {\"name\" : \"Nikola\",\n",
        "     \"surname\" : \"Tesla\",\n",
        "     \"idade\" : 60},\n",
        "     {\"name\" : \"Luke\",\n",
        "      \"surname\" : \"Skywalker\",\n",
        "      \"idade\" : 50},\n",
        "      {\"name\" : \"Mahesh\",\n",
        "       \"age\" : 25,\n",
        "       \"city\" : \"Bangalore\",\n",
        "       \"country\" : \"India\"},\n",
        "       {\"name\" : \"Alex\",\n",
        "        \"age\" : 26,\n",
        "        \"city\" : \"london\",\n",
        "        \"country\" : \"UK\"},\n",
        "        {\"name\" : \"David\",\n",
        "         \"age\" : 27,\n",
        "         \"city\" : \"San Francisco\",\n",
        "         \"country\" : \"USA\"},\n",
        "         {\"name\" : \"John\",\n",
        "          \"age\" : 28,\n",
        "          \"city\" : \"Toronto\",\n",
        "          \"country\" : \"Canada\"},\n",
        "          {\"name\" : \"Chris\",\n",
        "           \"age\" : 29,\n",
        "           \"city\" : \"Paris\",\n",
        "           \"country\" : \"France\"}\n",
        "}"
      ]
    },
    {
      "cell_type": "code",
      "execution_count": 5,
      "metadata": {
        "id": "tRAQnZiVHo0M"
      },
      "outputs": [],
      "source": [
        "@app.route(\"/\") # Code to assign HomePage URL in our app to function home\n",
        "\n",
        "def home():\n",
        "  '''\n",
        "  The entire line below must be writen in a single line\n",
        "  '''\n",
        "  return \"Página HTML\""
      ]
    },
    {
      "cell_type": "code",
      "execution_count": 6,
      "metadata": {
        "id": "4AYzN_Z-IqxH"
      },
      "outputs": [],
      "source": [
        "@app.route(\"/input\") # Code to assign Input URL in our app to function input\n",
        "\n",
        "def input():\n",
        "  return jsonify(d) # \"d\" is the dictionary we defined"
      ]
    },
    {
      "cell_type": "code",
      "execution_count": null,
      "metadata": {
        "id": "OLVfuKlXJ2oX"
      },
      "outputs": [],
      "source": [
        "@app.route('/output', methods=['GET', 'POST']) # Output page\n",
        "\n",
        "def predJson():\n",
        "  pred = r.choice([\"positive\", \"negative\"])\n",
        "  nd = d # Our input\n",
        "  nd[\"prediction\"] = pred\n",
        "  return jsonify(nd)\n",
        "\n",
        "  app.run()\n"
      ]
    }
  ],
  "metadata": {
    "colab": {
      "provenance": []
    },
    "kernelspec": {
      "display_name": "Python 3",
      "name": "python3"
    },
    "language_info": {
      "name": "python"
    }
  },
  "nbformat": 4,
  "nbformat_minor": 0
}
